{
 "cells": [
  {
   "cell_type": "code",
   "execution_count": 1,
   "id": "consistent-verification",
   "metadata": {},
   "outputs": [],
   "source": [
    "import pickle,json\n",
    "import numpy as np"
   ]
  },
  {
   "cell_type": "code",
   "execution_count": 5,
   "id": "careful-looking",
   "metadata": {},
   "outputs": [],
   "source": [
    "data_cols=None\n",
    "model=None"
   ]
  },
  {
   "cell_type": "code",
   "execution_count": 6,
   "id": "municipal-career",
   "metadata": {},
   "outputs": [],
   "source": [
    "def load_saved_artifacts():\n",
    "    print('loading saved artifacts...........started......')\n",
    "    global model,data_cols\n",
    "    with open('titanic.json','r')as f:\n",
    "        data_cols=json.load(f)['data_columns']\n",
    "        \n",
    "        if model is None:\n",
    "            with open('titanic_train.pickle','rb')as f:\n",
    "                model=pickle.load(f)\n",
    "                \n",
    "    print('loading saved artifacts...........done')"
   ]
  },
  {
   "cell_type": "code",
   "execution_count": 7,
   "id": "loving-michigan",
   "metadata": {},
   "outputs": [],
   "source": [
    "def survived_predict(pclass,age,male):\n",
    "    if age in range(1,100):\n",
    "        if male==1:\n",
    "            return('survived male')\n",
    "        else:\n",
    "            return('survived female')\n",
    "    else:\n",
    "        return('invalid age')"
   ]
  },
  {
   "cell_type": "code",
   "execution_count": 8,
   "id": "indirect-location",
   "metadata": {},
   "outputs": [
    {
     "name": "stdout",
     "output_type": "stream",
     "text": [
      "survived female\n",
      "invalid age\n"
     ]
    }
   ],
   "source": [
    "if __name__=='__main__':\n",
    "    print(survived_predict(1,38,0))\n",
    "    print(survived_predict(0,0,0))"
   ]
  },
  {
   "cell_type": "code",
   "execution_count": null,
   "id": "static-capitol",
   "metadata": {},
   "outputs": [],
   "source": []
  }
 ],
 "metadata": {
  "kernelspec": {
   "display_name": "Python 3",
   "language": "python",
   "name": "python3"
  },
  "language_info": {
   "codemirror_mode": {
    "name": "ipython",
    "version": 3
   },
   "file_extension": ".py",
   "mimetype": "text/x-python",
   "name": "python",
   "nbconvert_exporter": "python",
   "pygments_lexer": "ipython3",
   "version": "3.9.2"
  }
 },
 "nbformat": 4,
 "nbformat_minor": 5
}
