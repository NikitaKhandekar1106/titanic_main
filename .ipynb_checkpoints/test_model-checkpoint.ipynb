{
 "cells": [
  {
   "cell_type": "code",
   "execution_count": 1,
   "id": "popular-simulation",
   "metadata": {},
   "outputs": [],
   "source": [
    "import pickle\n",
    "import json\n",
    "import numpy as np"
   ]
  },
  {
   "cell_type": "code",
   "execution_count": 2,
   "id": "moderate-floor",
   "metadata": {},
   "outputs": [],
   "source": [
    "model=pickle.load(open('titanic_train.pickle','rb'))"
   ]
  },
  {
   "cell_type": "code",
   "execution_count": 3,
   "id": "premier-kazakhstan",
   "metadata": {},
   "outputs": [],
   "source": [
    "def get_age_groups():\n",
    "    with open('titanic.json','r')as f:\n",
    "        age_groups=json.load(f)['data_columns']\n",
    "        return ages_groups[1]"
   ]
  },
  {
   "cell_type": "code",
   "execution_count": 20,
   "id": "determined-mississippi",
   "metadata": {},
   "outputs": [],
   "source": [
    "def get_survived_predict(pclass,age,male):\n",
    "    if age in range(1,100):\n",
    "        if male==1:\n",
    "            return('survived male')\n",
    "        else:\n",
    "            return('survived female')\n",
    "    else:\n",
    "        return('invalid age')"
   ]
  },
  {
   "cell_type": "code",
   "execution_count": 21,
   "id": "prompt-specific",
   "metadata": {},
   "outputs": [
    {
     "name": "stdout",
     "output_type": "stream",
     "text": [
      "survived male\n",
      "survived female\n"
     ]
    }
   ],
   "source": [
    "if __name__=='__main__':\n",
    "    print(get_survived_predict(3,22,1))\n",
    "    print(get_survived_predict(1,38,0))"
   ]
  },
  {
   "cell_type": "code",
   "execution_count": null,
   "id": "individual-avenue",
   "metadata": {},
   "outputs": [],
   "source": []
  },
  {
   "cell_type": "code",
   "execution_count": null,
   "id": "compressed-jones",
   "metadata": {},
   "outputs": [],
   "source": []
  }
 ],
 "metadata": {
  "kernelspec": {
   "display_name": "Python 3",
   "language": "python",
   "name": "python3"
  },
  "language_info": {
   "codemirror_mode": {
    "name": "ipython",
    "version": 3
   },
   "file_extension": ".py",
   "mimetype": "text/x-python",
   "name": "python",
   "nbconvert_exporter": "python",
   "pygments_lexer": "ipython3",
   "version": "3.9.2"
  }
 },
 "nbformat": 4,
 "nbformat_minor": 5
}
